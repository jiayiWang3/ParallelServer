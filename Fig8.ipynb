{
 "cells": [
  {
   "cell_type": "code",
   "execution_count": 1,
   "metadata": {},
   "outputs": [],
   "source": [
    "import numpy as np\n",
    "import matplotlib.pyplot as plt\n",
    "import matplotlib as mpl\n",
    "\n",
    "import matplotlib as mpl\n",
    "import matplotlib.font_manager as font_manager\n",
    "\n",
    "mpl.rcParams['font.family']='serif'\n",
    "cmfont = font_manager.FontProperties(fname=mpl.get_data_path() + '/fonts/ttf/cmr10.ttf')\n",
    "mpl.rcParams['font.serif']=cmfont.get_name()\n",
    "mpl.rcParams['mathtext.fontset']='cm'\n",
    "mpl.rcParams['axes.unicode_minus']=False"
   ]
  },
  {
   "cell_type": "code",
   "execution_count": 2,
   "metadata": {},
   "outputs": [],
   "source": [
    "lam = 0.4 #lambda\n",
    "mu = 0.25 #mu\n",
    "rho = 0.1 #discount factor\n",
    "cost_a = 0.1 #attacking cost\n",
    "cost_b = 0.2 #defending cost\n",
    "theta = 0.01 #converge threshold\n",
    "maxLength = 40"
   ]
  },
  {
   "cell_type": "code",
   "execution_count": 3,
   "metadata": {},
   "outputs": [],
   "source": [
    "value = np.zeros([maxLength+1, maxLength+1])\n",
    "policy_a = np.zeros([maxLength+1, maxLength+1])\n",
    "policy_b = np.zeros([maxLength+1, maxLength+1])\n",
    "policy_type = np.zeros([maxLength+1, maxLength+1])\n",
    "while True:\n",
    "    delta = 0\n",
    "    for x in range(maxLength):\n",
    "        for y in range(maxLength):\n",
    "            v = value[x][y]\n",
    "            d = lam*abs(value[x+1][y]-value[x][y+1])\n",
    "            val = x+y+mu*(value[max(0,x-1)][y]+value[x][max(0,y-1)])+lam*min(value[x+1][y],value[x][y+1])\n",
    "            if d < cost_a:\n",
    "                value[x][y] = val\n",
    "            else:\n",
    "                if d < cost_b:\n",
    "                    value[x][y] = val+d-cost_a\n",
    "                else:\n",
    "                    value[x][y] = val+cost_b*(1-cost_a/d)\n",
    "            delta = max(delta, abs(v-value[x][y]))\n",
    "    if delta<theta:\n",
    "        break\n",
    "for x in range(maxLength):\n",
    "    for y in range(maxLength):\n",
    "        d = lam*abs(value[x+1][y]-value[x][y+1])\n",
    "        if d < cost_a:\n",
    "            policy_a[x][y] = 0\n",
    "            policy_b[x][y] = 0\n",
    "            policy_type[x][y] = 0\n",
    "        else:\n",
    "            if d < cost_b:\n",
    "                policy_a[x][y] = 1\n",
    "                policy_b[x][y] = 0\n",
    "                policy_type[x][y] = 1\n",
    "            else:\n",
    "                policy_a[x][y] = cost_b/d\n",
    "                policy_b[x][y] = 1-cost_a/d\n",
    "                policy_type[x][y] = 2"
   ]
  },
  {
   "cell_type": "code",
   "execution_count": 4,
   "metadata": {},
   "outputs": [
    {
     "name": "stdout",
     "output_type": "stream",
     "text": [
      "[-15, -13, -11, -9, -7, -5, -3, -1, 1, 3, 5, 7, 9, 11, 13, 15]\n"
     ]
    }
   ],
   "source": [
    "x_axis= []\n",
    "for i in range(-15,16,2):\n",
    "    x_axis.append(i)\n",
    "print(x_axis)"
   ]
  },
  {
   "cell_type": "code",
   "execution_count": 9,
   "metadata": {},
   "outputs": [
    {
     "name": "stdout",
     "output_type": "stream",
     "text": [
      "0.9440036901073282\n",
      "0.9440036901073282\n"
     ]
    },
    {
     "data": {
      "image/png": "[encoded data removed]",
      "text/plain": [
       "<Figure size 432x288 with 2 Axes>"
      ]
     },
     "metadata": {
      "needs_background": "light"
     },
     "output_type": "display_data"
    }
   ],
   "source": [
    "##### Z is your data set\n",
    "N = int(maxLength/2+1)\n",
    "B = policy_b[:N,:N]\n",
    "\n",
    "# G is a NxNx3 matrix\n",
    "G = np.zeros((N,N,3))\n",
    "\n",
    "# Where we set the RGB for each pixel\n",
    "# G[T == 0] = [1,0,0]\n",
    "# G[T == 1] = [0,1,0]\n",
    "# G[T == 2] = [0,0,1]\n",
    "\n",
    "for i in range(N):\n",
    "    for j in range(N):\n",
    "        b_ij = B[i][j]\n",
    "        G[i][j] = [1-b_ij,1-b_ij,1-b_ij]\n",
    "\n",
    "print(B[0,15])\n",
    "print(B[15,0])\n",
    "\n",
    "plt.imshow(G,interpolation='nearest',cmap='gray_r',vmin=0,vmax=1)\n",
    "plt.gca().invert_yaxis()\n",
    "cbar = plt.colorbar(orientation=\"vertical\")\n",
    "cbar.set_label(r\"defending probability $\\beta$*\",size =16)\n",
    "plt.yticks([y for y in range(N) if y % 5 == 0])\n",
    "plt.xlabel(r'length of queue 1',size=16)\n",
    "plt.ylabel(r'length of queue 2',size=16)\n",
    "# plt.show()\n",
    "plt.savefig(\"Fig8-2.pdf\")"
   ]
  },
  {
   "cell_type": "code",
   "execution_count": 10,
   "metadata": {},
   "outputs": [
    {
     "data": {
      "image/png": "[encoded data removed]",
      "text/plain": [
       "<Figure size 432x288 with 2 Axes>"
      ]
     },
     "metadata": {
      "needs_background": "light"
     },
     "output_type": "display_data"
    }
   ],
   "source": [
    "# Z is your data set\n",
    "N = int(maxLength/2+1)\n",
    "A = policy_a[:N,:N]\n",
    "\n",
    "# G is a NxNx3 matrix\n",
    "G = np.zeros((N,N,3))\n",
    "\n",
    "\n",
    "for i in range(N):\n",
    "    for j in range(N):\n",
    "        a_ij = A[i][j]\n",
    "        G[i][j] = [1-a_ij,1-a_ij,1-a_ij]\n",
    "\n",
    "\n",
    "plt.imshow(G,interpolation='nearest',cmap='gray_r')\n",
    "plt.gca().invert_yaxis()\n",
    "cbar = plt.colorbar(orientation=\"vertical\")\n",
    "# cbar.ax.tick_params(labelsize=2) \n",
    "cbar.set_label(r\"attacking probability $\\alpha$*\",size =16)\n",
    "plt.yticks([y for y in range(N) if y % 5 == 0])\n",
    "plt.xlabel(r'length of queue 1',size=16)\n",
    "plt.ylabel(r'length of queue 2',size=16)\n",
    "# plt.show()\n",
    "plt.savefig(\"Fig8-1.pdf\")"
   ]
  },
  {
   "cell_type": "code",
   "execution_count": null,
   "metadata": {},
   "outputs": [],
   "source": []
  },
  {
   "cell_type": "code",
   "execution_count": null,
   "metadata": {},
   "outputs": [],
   "source": []
  },
  {
   "cell_type": "code",
   "execution_count": null,
   "metadata": {},
   "outputs": [],
   "source": []
  },
  {
   "cell_type": "code",
   "execution_count": null,
   "metadata": {},
   "outputs": [],
   "source": []
  }
 ],
 "metadata": {
  "kernelspec": {
   "display_name": "Python 3",
   "language": "python",
   "name": "python3"
  },
  "language_info": {
   "codemirror_mode": {
    "name": "ipython",
    "version": 3
   },
   "file_extension": ".py",
   "mimetype": "text/x-python",
   "name": "python",
   "nbconvert_exporter": "python",
   "pygments_lexer": "ipython3",
   "version": "3.8.5"
  }
 },
 "nbformat": 4,
 "nbformat_minor": 4
}
