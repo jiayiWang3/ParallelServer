{
 "cells": [
  {
   "cell_type": "code",
   "execution_count": 1,
   "metadata": {},
   "outputs": [],
   "source": [
    "import numpy as np\n",
    "import matplotlib.pyplot as plt\n",
    "\n",
    "import matplotlib as mpl\n",
    "import matplotlib.font_manager as font_manager\n",
    "\n",
    "mpl.rcParams['font.family']='serif'\n",
    "cmfont = font_manager.FontProperties(fname=mpl.get_data_path() + '/fonts/ttf/cmr10.ttf')\n",
    "mpl.rcParams['font.serif']=cmfont.get_name()\n",
    "mpl.rcParams['mathtext.fontset']='cm'\n",
    "mpl.rcParams['axes.unicode_minus']=False\n"
   ]
  },
  {
   "cell_type": "code",
   "execution_count": 2,
   "metadata": {},
   "outputs": [],
   "source": [
    "lam = 0.15 #lambda\n",
    "mu = 0.375 #mu\n",
    "rho = 0.1 #discount factor lam+2*mu+rho=1\n",
    "cost = 1.4 #technological cost\n",
    "a = 1.0 #fault probability\n",
    "p1 = 0.9\n",
    "p2 = 0.1\n",
    "epilson = 0.001 #converge threshold\n",
    "maxLength = 32"
   ]
  },
  {
   "cell_type": "code",
   "execution_count": 3,
   "metadata": {},
   "outputs": [
    {
     "name": "stdout",
     "output_type": "stream",
     "text": [
      "1.4\n",
      "tipping point is  1.4\n",
      "policy =  [[0. 0. 0. ... 0. 0. 0.]\n",
      " [0. 0. 0. ... 0. 0. 0.]\n",
      " [0. 0. 0. ... 0. 0. 0.]\n",
      " ...\n",
      " [0. 0. 0. ... 0. 0. 0.]\n",
      " [0. 0. 0. ... 0. 0. 0.]\n",
      " [0. 0. 0. ... 0. 0. 0.]]\n"
     ]
    }
   ],
   "source": [
    "\n",
    "\n",
    "theta = np.zeros([maxLength+1, maxLength+1])\n",
    "for x in range (maxLength+1):\n",
    "    for y in range(maxLength+1):\n",
    "        if x!=y:\n",
    "            if a*lam*(p1*x+p2*y-min(x,y))!=0:\n",
    "                test=1-((mu*(x+y)-lam*min(x,y))/(a*lam*(p1*x+p2*y-min(x,y))))\n",
    "                theta[x][y] = max(0, test)\n",
    "    \n",
    "#for cost in cost_array:\n",
    "print(cost)\n",
    "value = np.zeros([maxLength+1, maxLength+1])\n",
    "policy = np.zeros([maxLength+1, maxLength+1])\n",
    "while True:\n",
    "    while True:\n",
    "        delta = 0\n",
    "        val = value.copy()\n",
    "        for x in range(maxLength+1):\n",
    "            for y in range(maxLength+1):\n",
    "                v = value[x][y]\n",
    "                b = policy[x][y]\n",
    "                xx = min(x+1,maxLength)\n",
    "                yy = min(y+1,maxLength)\n",
    "                if xx == x or yy == y:\n",
    "                    value[x][y] = x+y+cost*b+mu*(val[max(x-1,0)][y]+val[x][max(y-1,0)])+(1-(1-b)*a)*lam*max(val[xx][y],val[x][yy])+p1*(1-b)*a*lam*val[xx][y]+p2*(1-b)*a*lam*val[x][yy]\n",
    "                else:\n",
    "                    value[x][y] = x+y+cost*b+mu*(val[max(x-1,0)][y]+val[x][max(y-1,0)])+(1-(1-b)*a)*lam*min(val[xx][y],val[x][yy])+p1*(1-b)*a*lam*val[xx][y]+p2*(1-b)*a*lam*val[x][yy]\n",
    "                delta = max(delta, abs(v-value[x][y]))\n",
    "        if delta<epilson:\n",
    "            break\n",
    "    stable = True\n",
    "    for x in range(maxLength+1):\n",
    "        for y in range(maxLength+1):\n",
    "            old = policy[x][y]\n",
    "            xx = min(x+1,maxLength)\n",
    "            yy = min(y+1,maxLength)\n",
    "            diff = a*lam*(p1*value[xx][y]+p2*value[x][yy]-min(value[xx][y],value[x][yy]))\n",
    "            if diff <= cost:\n",
    "                policy[x][y] = 0\n",
    "            else:\n",
    "                policy[x][y] = 1\n",
    "            if old != policy[x][y]:\n",
    "                stable = False\n",
    "    if stable:\n",
    "        if np.count_nonzero(policy) == 0:  #policy is all zeros\n",
    "            print('tipping point is ', cost)\n",
    "        print('policy = ', policy)\n",
    "        break"
   ]
  },
  {
   "cell_type": "code",
   "execution_count": 10,
   "metadata": {},
   "outputs": [
    {
     "data": {
      "image/png": "[encoded data removed]",
      "text/plain": [
       "<Figure size 288x288 with 1 Axes>"
      ]
     },
     "metadata": {
      "needs_background": "light"
     },
     "output_type": "display_data"
    }
   ],
   "source": [
    "# By changing different parameters, we get the tipping points\n",
    "r = [0,0.2,0.4,0.6,0.8,1]\n",
    "c1 = [0,0.8,1.5,2.2,2.9,3.6]\n",
    "c2 = [0,0.6,1.1,1.7,2.2,2.7]\n",
    "c3 = [0,0.3,0.6,0.9,1.1,1.4]\n",
    "y = [0,0,0,0,0,0]\n",
    "plt.figure(figsize=(4,4))\n",
    "# l1=plt.plot(r,c1,'r--')\n",
    "# l2=plt.plot(r,c2,'y--',label='λ=1, μ=1')\n",
    "# l3=plt.plot(r,c3,'g--',label='λ=0.4, μ=1')\n",
    "plt.plot(r,c1,'grey')\n",
    "plt.fill_between(r,0,c1,facecolor = 'grey',alpha=0.2)\n",
    "plt.yticks([y for y in range(5) if y % 1 == 0])\n",
    "plt.xlabel('failure probability $a$',size=12)\n",
    "plt.ylabel('tech cost $c_b$',size=12)\n",
    "plt.text(0.17, 2.4, \"$∀$x, $\\hat{β}$*(x) = 0\", size=12)\n",
    "plt.text(0.5, 1.0, \"$∃$x, $\\hat{β}$*(x) $>$ 0\",size=12)\n",
    "axes = plt.gca()\n",
    "axes.set_xlim([0,1.0])\n",
    "axes.set_ylim([0,4.0])\n",
    "# plt.show()\n",
    "plt.savefig(\"Fig6-1.pdf\")"
   ]
  },
  {
   "cell_type": "code",
   "execution_count": 9,
   "metadata": {},
   "outputs": [
    {
     "data": {
      "image/png": "[encoded data removed]",
      "text/plain": [
       "<Figure size 288x288 with 1 Axes>"
      ]
     },
     "metadata": {
      "needs_background": "light"
     },
     "output_type": "display_data"
    }
   ],
   "source": [
    "# By changing different parameters, we get the tipping points\n",
    "r = [0,0.2,0.4,0.6,0.8,1]\n",
    "c1 = [0,0.8,1.5,2.2,2.9,3.6]\n",
    "c2 = [0,0.6,1.1,1.7,2.2,2.7]\n",
    "c3 = [0,0.3,0.6,0.9,1.1,1.4]\n",
    "plt.figure(figsize=(4,4))\n",
    "# l1=plt.plot(r,c1,'r--',label='λ=1.6, μ=1')\n",
    "# l2=plt.plot(r,c2,'y--',label='λ=1, μ=1')\n",
    "# l3=plt.plot(r,c3,'g--')\n",
    "plt.plot(r,c3,'grey')\n",
    "plt.fill_between(r,0,c3,facecolor = 'grey',alpha=0.2)\n",
    "plt.yticks([y for y in range(9) if y % 1 == 0])\n",
    "plt.xlabel('failure probability $a$',size=12)\n",
    "plt.ylabel('tech cost $c_b$',size=12)\n",
    "plt.text(0.3, 2.4, \"$∀$x, $\\hat{β}$*(x) = 0\", size=12)\n",
    "plt.text(0.6, 0.4, \"$∃$x, $\\hat{β}$*(x) $>$ 0\", size=12)\n",
    "axes = plt.gca()\n",
    "axes.set_xlim([0,1.0])\n",
    "axes.set_ylim([0,4.0])\n",
    "# plt.show()\n",
    "plt.savefig(\"Fig6-2.pdf\")"
   ]
  },
  {
   "cell_type": "code",
   "execution_count": null,
   "metadata": {},
   "outputs": [],
   "source": []
  },
  {
   "cell_type": "code",
   "execution_count": null,
   "metadata": {},
   "outputs": [],
   "source": []
  }
 ],
 "metadata": {
  "kernelspec": {
   "display_name": "Python 3",
   "language": "python",
   "name": "python3"
  },
  "language_info": {
   "codemirror_mode": {
    "name": "ipython",
    "version": 3
   },
   "file_extension": ".py",
   "mimetype": "text/x-python",
   "name": "python",
   "nbconvert_exporter": "python",
   "pygments_lexer": "ipython3",
   "version": "3.8.5"
  }
 },
 "nbformat": 4,
 "nbformat_minor": 4
}
