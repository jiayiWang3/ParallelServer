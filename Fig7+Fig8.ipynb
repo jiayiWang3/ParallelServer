{
 "cells": [
  {
   "cell_type": "code",
   "execution_count": 2,
   "metadata": {},
   "outputs": [],
   "source": [
    "import numpy as np\n",
    "import matplotlib.pyplot as plt\n",
    "import matplotlib as mpl"
   ]
  },
  {
   "cell_type": "code",
   "execution_count": 3,
   "metadata": {},
   "outputs": [],
   "source": [
    "lam = 0.3 #lambda\n",
    "mu = 0.3 #mu\n",
    "rho = 0.1 #discount factor\n",
    "cost_a = 0.1 #attacking cost\n",
    "cost_b = 0.2 #defending cost\n",
    "theta = 0.01 #converge threshold\n",
    "maxLength = 40"
   ]
  },
  {
   "cell_type": "code",
   "execution_count": 4,
   "metadata": {},
   "outputs": [],
   "source": [
    "value = np.zeros([maxLength+1, maxLength+1])\n",
    "# print(value)\n",
    "policy_a = np.zeros([maxLength+1, maxLength+1])\n",
    "policy_b = np.zeros([maxLength+1, maxLength+1])\n",
    "policy_type = np.zeros([maxLength+1, maxLength+1])\n",
    "while True:\n",
    "    delta = 0\n",
    "    for x in range(maxLength):\n",
    "        for y in range(maxLength):\n",
    "            v = value[x][y]\n",
    "            d = lam*abs(value[x+1][y]-value[x][y+1])\n",
    "            val = x+y+mu*(value[max(0,x-1)][y]+value[x][max(0,y-1)])+lam*min(value[x+1][y],value[x][y+1])\n",
    "            if d < cost_a:\n",
    "                value[x][y] = val\n",
    "            else:\n",
    "                if d < cost_b:\n",
    "                    value[x][y] = val+d-cost_a\n",
    "                else:\n",
    "                    value[x][y] = val+cost_b*(1-cost_a/d)\n",
    "            delta = max(delta, abs(v-value[x][y]))\n",
    "#     print(delta)\n",
    "    if delta<theta:\n",
    "        break\n",
    "for x in range(maxLength):\n",
    "    for y in range(maxLength):\n",
    "        d = lam*abs(value[x+1][y]-value[x][y+1])\n",
    "        if d < cost_a:\n",
    "            policy_a[x][y] = 0\n",
    "            policy_b[x][y] = 0\n",
    "            policy_type[x][y] = 0\n",
    "        else:\n",
    "            if d < cost_b:\n",
    "                policy_a[x][y] = 1\n",
    "                policy_b[x][y] = 0\n",
    "                policy_type[x][y] = 1\n",
    "            else:\n",
    "                policy_a[x][y] = cost_b/d\n",
    "                policy_b[x][y] = 1-cost_a/d\n",
    "                policy_type[x][y] = 2"
   ]
  },
  {
   "cell_type": "code",
   "execution_count": 5,
   "metadata": {},
   "outputs": [
    {
     "data": {
      "text/plain": [
       "Text(0, 0.5, 'length of queue 2')"
      ]
     },
     "execution_count": 5,
     "metadata": {},
     "output_type": "execute_result"
    },
    {
     "data": {
      "image/png": "[encoded data removed]",
      "text/plain": [
       "<Figure size 432x288 with 2 Axes>"
      ]
     },
     "metadata": {
      "needs_background": "light"
     },
     "output_type": "display_data"
    }
   ],
   "source": [
    "# Z is your data set\n",
    "N = int(maxLength/2)\n",
    "B = policy_b[:N,:N]\n",
    "\n",
    "# G is a NxNx3 matrix\n",
    "G = np.zeros((N,N,3))\n",
    "\n",
    "# Where we set the RGB for each pixel\n",
    "# G[T == 0] = [1,0,0]\n",
    "# G[T == 1] = [0,1,0]\n",
    "# G[T == 2] = [0,0,1]\n",
    "\n",
    "for i in range(N):\n",
    "    for j in range(N):\n",
    "        b_ij = B[i][j]\n",
    "        G[i][j] = [1-b_ij,1-b_ij,1-b_ij]\n",
    "\n",
    "\n",
    "plt.imshow(G,interpolation='nearest',cmap='gray_r')\n",
    "plt.gca().invert_yaxis()\n",
    "plt.colorbar(label=\"defending probability\", orientation=\"vertical\")\n",
    "plt.yticks([y for y in range(N) if y % 5 == 0])\n",
    "plt.xlabel('length of queue 1')\n",
    "plt.ylabel('length of queue 2')"
   ]
  },
  {
   "cell_type": "code",
   "execution_count": 6,
   "metadata": {},
   "outputs": [
    {
     "data": {
      "text/plain": [
       "Text(0, 0.5, 'length of queue 2')"
      ]
     },
     "execution_count": 6,
     "metadata": {},
     "output_type": "execute_result"
    },
    {
     "data": {
      "image/png": "[encoded data removed]",
      "text/plain": [
       "<Figure size 432x288 with 2 Axes>"
      ]
     },
     "metadata": {
      "needs_background": "light"
     },
     "output_type": "display_data"
    }
   ],
   "source": [
    "# Z is your data set\n",
    "N = int(maxLength/2)\n",
    "A = policy_a[:N,:N]\n",
    "\n",
    "# G is a NxNx3 matrix\n",
    "G = np.zeros((N,N,3))\n",
    "\n",
    "\n",
    "for i in range(N):\n",
    "    for j in range(N):\n",
    "        a_ij = A[i][j]\n",
    "        G[i][j] = [1-a_ij,1-a_ij,1-a_ij]\n",
    "\n",
    "\n",
    "plt.imshow(G,interpolation='nearest',cmap='gray_r')\n",
    "plt.gca().invert_yaxis()\n",
    "plt.colorbar(label=\"attacking probability\", orientation=\"vertical\")\n",
    "plt.yticks([y for y in range(N) if y % 5 == 0])\n",
    "plt.xlabel('length of queue 1')\n",
    "plt.ylabel('length of queue 2')"
   ]
  },
  {
   "cell_type": "code",
   "execution_count": 7,
   "metadata": {},
   "outputs": [
    {
     "data": {
      "text/plain": [
       "Text(10, 1.6, 'high risk')"
      ]
     },
     "execution_count": 7,
     "metadata": {},
     "output_type": "execute_result"
    },
    {
     "data": {
      "image/png": "[encoded data removed]",
      "text/plain": [
       "<Figure size 432x288 with 1 Axes>"
      ]
     },
     "metadata": {
      "needs_background": "light"
     },
     "output_type": "display_data"
    }
   ],
   "source": [
    "# Z is your data set\n",
    "N = int(maxLength/2)\n",
    "T = policy_type[:N,:N]\n",
    "\n",
    "# G is a NxNx3 matrix\n",
    "G = np.zeros((N,N,3))\n",
    "\n",
    "# Where we set the RGB for each pixel\n",
    "G[T == 0] = [0,0.9,0]\n",
    "G[T == 1] = [0.9,0.9,0]\n",
    "G[T == 2] = [0.9,0,0]\n",
    "\n",
    "\n",
    "plt.imshow(G,interpolation='nearest')\n",
    "plt.gca().invert_yaxis()\n",
    "plt.yticks([y for y in range(N) if y % 5 == 0])\n",
    "plt.xlabel('length of queue 1')\n",
    "plt.ylabel('length of queue 2')\n",
    "plt.text(10, 12.6, \"low risk\", size=12)\n",
    "plt.text(9, 4.6, \"medium risk\", size=12)\n",
    "plt.text(10, 1.6, \"high risk\", size=12)"
   ]
  }
 ],
 "metadata": {
  "kernelspec": {
   "display_name": "Python 3",
   "language": "python",
   "name": "python3"
  },
  "language_info": {
   "codemirror_mode": {
    "name": "ipython",
    "version": 3
   },
   "file_extension": ".py",
   "mimetype": "text/x-python",
   "name": "python",
   "nbconvert_exporter": "python",
   "pygments_lexer": "ipython3",
   "version": "3.8.5"
  }
 },
 "nbformat": 4,
 "nbformat_minor": 4
}
