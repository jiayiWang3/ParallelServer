{
 "cells": [
  {
   "cell_type": "code",
   "execution_count": 5,
   "metadata": {},
   "outputs": [],
   "source": [
    "import numpy as np\n",
    "import matplotlib.pyplot as plt\n",
    "\n",
    "import matplotlib as mpl\n",
    "import matplotlib.font_manager as font_manager\n",
    "\n",
    "mpl.rcParams['font.family']='serif'\n",
    "cmfont = font_manager.FontProperties(fname=mpl.get_data_path() + '/fonts/ttf/cmr10.ttf')\n",
    "mpl.rcParams['font.serif']=cmfont.get_name()\n",
    "mpl.rcParams['mathtext.fontset']='cm'\n",
    "mpl.rcParams['axes.unicode_minus']=False"
   ]
  },
  {
   "cell_type": "code",
   "execution_count": 6,
   "metadata": {},
   "outputs": [],
   "source": [
    "lam = 0.4 #lambda\n",
    "mu = 0.25 #mu\n",
    "rho = 0.1 #discount factor lam+2*mu+rho=1\n",
    "cost = 0.001 #technological cost\n",
    "a = 0.9 #fault probability\n",
    "p1 = 0.1\n",
    "p2 = 0.9\n",
    "theta = 0.001 #converge threshold\n",
    "maxLength = 32"
   ]
  },
  {
   "cell_type": "code",
   "execution_count": 7,
   "metadata": {},
   "outputs": [],
   "source": [
    "value = np.zeros([maxLength+1, maxLength+1])\n",
    "policy = np.zeros([maxLength+1, maxLength+1])\n",
    "while True:\n",
    "    while True:\n",
    "        delta = 0\n",
    "        val = value.copy()\n",
    "        for x in range(maxLength+1):\n",
    "            for y in range(maxLength+1):\n",
    "                v = value[x][y]\n",
    "                b = policy[x][y]\n",
    "                xx = min(x+1,maxLength)\n",
    "                yy = min(y+1,maxLength)\n",
    "                if xx == x or yy == y:\n",
    "                    value[x][y] = x+y+cost*b+mu*(val[max(x-1,0)][y]+val[x][max(y-1,0)])+(1-(1-b)*a)*lam*max(val[xx][y],val[x][yy])+p1*(1-b)*a*lam*val[xx][y]+p2*(1-b)*a*lam*val[x][yy]\n",
    "                else:\n",
    "                    value[x][y] = x+y+cost*b+mu*(val[max(x-1,0)][y]+val[x][max(y-1,0)])+(1-(1-b)*a)*lam*min(val[xx][y],val[x][yy])+p1*(1-b)*a*lam*val[xx][y]+p2*(1-b)*a*lam*val[x][yy]\n",
    "                delta = max(delta, abs(v-value[x][y]))\n",
    "        if delta<theta:\n",
    "            break\n",
    "    stable = True\n",
    "    for x in range(maxLength+1):\n",
    "        for y in range(maxLength+1):\n",
    "            old = policy[x][y]\n",
    "            xx = min(x+1,maxLength)\n",
    "            yy = min(y+1,maxLength)\n",
    "            diff = a*lam*(p1*value[xx][y]+p2*value[x][yy]-min(value[xx][y],value[x][yy]))\n",
    "            if diff <= cost:\n",
    "                policy[x][y] = 0\n",
    "            else:\n",
    "                policy[x][y] = 1\n",
    "            if old != policy[x][y]:\n",
    "                stable = False\n",
    "    if stable:\n",
    "        break"
   ]
  },
  {
   "cell_type": "code",
   "execution_count": 10,
   "metadata": {},
   "outputs": [
    {
     "data": {
      "image/png": "[encoded data removed]",
      "text/plain": [
       "<Figure size 432x288 with 1 Axes>"
      ]
     },
     "metadata": {
      "needs_background": "light"
     },
     "output_type": "display_data"
    }
   ],
   "source": [
    "# Z is your data set\n",
    "N = maxLength-1\n",
    "Z = policy[:N,:N]\n",
    "\n",
    "# G is a NxNx3 matrix\n",
    "G = np.zeros((N,N,3))\n",
    "\n",
    "# Where we set the RGB for each pixel\n",
    "G[Z == 0] = [1,1,1]\n",
    "G[Z == 1] = [0.6,0.6,0.6]\n",
    "\n",
    "plt.imshow(G,interpolation='nearest')\n",
    "plt.gca().invert_yaxis()\n",
    "plt.yticks([y for y in range(N) if y % 5 == 0])\n",
    "plt.text(16.5, 19, \"not protect\", size=12)\n",
    "plt.text(16.5, 4, \"protect\", size=12)\n",
    "plt.text(10, 20, \"$\\mathscr{X}_1$\", size=16)\n",
    "plt.text(20, 10, \"$\\mathscr{X}_2$\", size=16)\n",
    "plt.plot([0, 30], [0, 30], ls=\"--\", c=\".8\")\n",
    "plt.xlabel('length of queue 1',size=12)\n",
    "plt.ylabel('length of queue 2',size=12)\n",
    "# plt.show()\n",
    "plt.savefig(\"Fig3.eps\")"
   ]
  },
  {
   "cell_type": "code",
   "execution_count": null,
   "metadata": {},
   "outputs": [],
   "source": []
  },
  {
   "cell_type": "code",
   "execution_count": null,
   "metadata": {},
   "outputs": [],
   "source": []
  },
  {
   "cell_type": "code",
   "execution_count": null,
   "metadata": {},
   "outputs": [],
   "source": []
  },
  {
   "cell_type": "code",
   "execution_count": null,
   "metadata": {},
   "outputs": [],
   "source": []
  }
 ],
 "metadata": {
  "kernelspec": {
   "display_name": "Python 3",
   "language": "python",
   "name": "python3"
  },
  "language_info": {
   "codemirror_mode": {
    "name": "ipython",
    "version": 3
   },
   "file_extension": ".py",
   "mimetype": "text/x-python",
   "name": "python",
   "nbconvert_exporter": "python",
   "pygments_lexer": "ipython3",
   "version": "3.8.5"
  }
 },
 "nbformat": 4,
 "nbformat_minor": 4
}
